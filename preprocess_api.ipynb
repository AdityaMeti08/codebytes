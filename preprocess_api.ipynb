{
 "cells": [
  {
   "cell_type": "code",
   "execution_count": null,
   "metadata": {},
   "outputs": [],
   "source": [
    "import requests"
   ]
  },
  {
   "cell_type": "code",
   "execution_count": null,
   "metadata": {},
   "outputs": [],
   "source": [
    "LOCATION = 'Tumkur, Karnataka'"
   ]
  },
  {
   "cell_type": "code",
   "execution_count": null,
   "metadata": {},
   "outputs": [],
   "source": [
    "url = \"https://www.latlong.net/_spm4.php\"\n",
    "\n",
    "payload=f'c1={LOCATION}&action=gpcm&cp='\n",
    "headers = {\n",
    "  'authority': 'www.latlong.net',\n",
    "  'accept': '*/*',\n",
    "  'accept-language': 'en-GB,en;q=0.9',\n",
    "  'content-type': 'application/x-www-form-urlencoded',\n",
    "  'cookie': 'PHPSESSID=3fundt3sste9m9j5nrrq1ijuf3; OptanonConsent=isGpcEnabled=1&datestamp=Sat+Feb+11+2023+17%3A07%3A14+GMT%2B0530+(India+Standard+Time)&version=6.34.0&isIABGlobal=false&hosts=&landingPath=https%3A%2F%2Fwww.latlong.net%2Fconvert-address-to-lat-long.html&groups=C0003%3A1%2CC0004%3A0%2CC0002%3A1%2CC0001%3A1',\n",
    "  'origin': 'https://www.latlong.net',\n",
    "  'referer': 'https://www.latlong.net/convert-address-to-lat-long.html',\n",
    "  'sec-ch-ua': '\"Not_A Brand\";v=\"99\", \"Brave\";v=\"109\", \"Chromium\";v=\"109\"',\n",
    "  'sec-ch-ua-mobile': '?0',\n",
    "  'sec-ch-ua-platform': '\"Linux\"',\n",
    "  'sec-fetch-dest': 'empty',\n",
    "  'sec-fetch-mode': 'cors',\n",
    "  'sec-fetch-site': 'same-origin',\n",
    "  'sec-gpc': '1',\n",
    "  'user-agent': 'Mozilla/5.0 (X11; Linux x86_64) AppleWebKit/537.36 (KHTML, like Gecko) Chrome/109.0.0.0 Safari/537.36',\n",
    "  'x-requested-with': 'XMLHttpRequest'\n",
    "}\n"
   ]
  },
  {
   "cell_type": "code",
   "execution_count": null,
   "metadata": {},
   "outputs": [
    {
     "name": "stdout",
     "output_type": "stream",
     "text": [
      "13.347490,77.102173\n"
     ]
    }
   ],
   "source": [
    "\n",
    "response = requests.request(\"POST\", url, headers=headers, data=payload)\n",
    "\n",
    "print(response.text)\n"
   ]
  }
 ],
 "metadata": {
  "kernelspec": {
   "display_name": ".venv",
   "language": "python",
   "name": "python3"
  },
  "language_info": {
   "name": "python",
   "version": "3.9.14 (main, Sep 21 2022, 00:00:00) \n[GCC 11.3.1 20220421 (Red Hat 11.3.1-2)]"
  },
  "orig_nbformat": 4,
  "vscode": {
   "interpreter": {
    "hash": "e19f2f4603b121f345fb5242191b61da42ec5dfe7de1e46fd6814367d39b7bd0"
   }
  }
 },
 "nbformat": 4,
 "nbformat_minor": 2
}
