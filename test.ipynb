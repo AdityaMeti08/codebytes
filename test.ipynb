{
 "cells": [
  {
   "cell_type": "code",
   "execution_count": 30,
   "metadata": {},
   "outputs": [],
   "source": [
    "from model.net import Net_64_128_64\n",
    "import torch\n",
    "import pickle\n",
    "import numpy as np"
   ]
  },
  {
   "cell_type": "code",
   "execution_count": 53,
   "metadata": {},
   "outputs": [],
   "source": [
    "def get_prediction(nitrogen, phosphorous, potassium, temperature, humidity,ph, rainfall):\n",
    "    model = Net_64_128_64(7, 22)\n",
    "    model.load_state_dict(torch.load('./utils/baseline.hdf5'))\n",
    "    x = torch.tensor([[nitrogen, phosphorous, potassium, temperature, humidity, ph, rainfall]])\n",
    "    prediction = model.forward(x)\n",
    "\n",
    "    with open(\"./utils/encoder.pkl\", \"rb\") as file:\n",
    "        encoder = pickle.load(file)\n",
    "\n",
    "    predicted = prediction.argmax().item()\n",
    "    encoded_labels = encoder.inverse_transform(np.array([predicted]))\n",
    "\n",
    "    return encoded_labels[0]"
   ]
  },
  {
   "cell_type": "code",
   "execution_count": 54,
   "metadata": {},
   "outputs": [
    {
     "name": "stderr",
     "output_type": "stream",
     "text": [
      "/home/pinbo/Documents/tri-nit-ml3/model/Net_64_128_64.py:18: UserWarning: Implicit dimension choice for softmax has been deprecated. Change the call to include dim=X as an argument.\n",
      "  return F.softmax(x)\n"
     ]
    },
    {
     "data": {
      "text/plain": [
       "'rice'"
      ]
     },
     "execution_count": 54,
     "metadata": {},
     "output_type": "execute_result"
    }
   ],
   "source": [
    "get_prediction(99,39,18,19.20129357,68.30578978,6.11275104,87.85092352)"
   ]
  }
 ],
 "metadata": {
  "kernelspec": {
   "display_name": ".venv",
   "language": "python",
   "name": "python3"
  },
  "language_info": {
   "codemirror_mode": {
    "name": "ipython",
    "version": 3
   },
   "file_extension": ".py",
   "mimetype": "text/x-python",
   "name": "python",
   "nbconvert_exporter": "python",
   "pygments_lexer": "ipython3",
   "version": "3.9.14 (main, Sep 21 2022, 00:00:00) \n[GCC 11.3.1 20220421 (Red Hat 11.3.1-2)]"
  },
  "orig_nbformat": 4,
  "vscode": {
   "interpreter": {
    "hash": "e19f2f4603b121f345fb5242191b61da42ec5dfe7de1e46fd6814367d39b7bd0"
   }
  }
 },
 "nbformat": 4,
 "nbformat_minor": 2
}
