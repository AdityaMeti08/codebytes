{
 "cells": [
  {
   "cell_type": "code",
   "execution_count": 18,
   "metadata": {},
   "outputs": [],
   "source": [
    "from utils.pred_crop import get_prediction,predict_crop\n",
    "import pandas as pd\n",
    "import random"
   ]
  },
  {
   "cell_type": "code",
   "execution_count": 2,
   "metadata": {},
   "outputs": [],
   "source": [
    "df = pd.read_csv('./data/Crop_recommendation.csv')\n",
    "features = df.iloc[:, :-1].values\n",
    "labels = df.iloc[:, -1].values"
   ]
  },
  {
   "cell_type": "code",
   "execution_count": 19,
   "metadata": {},
   "outputs": [
    {
     "name": "stdout",
     "output_type": "stream",
     "text": [
      "['mungbean']\n",
      "['mungbean']\n",
      "['watermelon']\n",
      "['watermelon']\n",
      "['watermelon']\n",
      "['watermelon']\n",
      "['pomegranate']\n",
      "['pomegranate']\n",
      "['mungbean']\n",
      "['mungbean']\n",
      "['rice']\n",
      "['rice']\n",
      "['coffee']\n",
      "['coffee']\n",
      "['papaya']\n",
      "['papaya']\n",
      "['mango']\n",
      "['mango']\n",
      "['muskmelon']\n",
      "['muskmelon']\n"
     ]
    },
    {
     "name": "stderr",
     "output_type": "stream",
     "text": [
      "/home/pinbo/Documents/tri-nit-ml3/model/net.py:18: UserWarning: Implicit dimension choice for softmax has been deprecated. Change the call to include dim=X as an argument.\n",
      "  return F.softmax(x)\n",
      "/home/pinbo/Documents/tri-nit-ml3/model/net.py:18: UserWarning: Implicit dimension choice for softmax has been deprecated. Change the call to include dim=X as an argument.\n",
      "  return F.softmax(x)\n",
      "/home/pinbo/Documents/tri-nit-ml3/model/net.py:18: UserWarning: Implicit dimension choice for softmax has been deprecated. Change the call to include dim=X as an argument.\n",
      "  return F.softmax(x)\n",
      "/home/pinbo/Documents/tri-nit-ml3/model/net.py:18: UserWarning: Implicit dimension choice for softmax has been deprecated. Change the call to include dim=X as an argument.\n",
      "  return F.softmax(x)\n",
      "/home/pinbo/Documents/tri-nit-ml3/model/net.py:18: UserWarning: Implicit dimension choice for softmax has been deprecated. Change the call to include dim=X as an argument.\n",
      "  return F.softmax(x)\n",
      "/home/pinbo/Documents/tri-nit-ml3/model/net.py:18: UserWarning: Implicit dimension choice for softmax has been deprecated. Change the call to include dim=X as an argument.\n",
      "  return F.softmax(x)\n",
      "/home/pinbo/Documents/tri-nit-ml3/model/net.py:18: UserWarning: Implicit dimension choice for softmax has been deprecated. Change the call to include dim=X as an argument.\n",
      "  return F.softmax(x)\n",
      "/home/pinbo/Documents/tri-nit-ml3/model/net.py:18: UserWarning: Implicit dimension choice for softmax has been deprecated. Change the call to include dim=X as an argument.\n",
      "  return F.softmax(x)\n",
      "/home/pinbo/Documents/tri-nit-ml3/model/net.py:18: UserWarning: Implicit dimension choice for softmax has been deprecated. Change the call to include dim=X as an argument.\n",
      "  return F.softmax(x)\n",
      "/home/pinbo/Documents/tri-nit-ml3/model/net.py:18: UserWarning: Implicit dimension choice for softmax has been deprecated. Change the call to include dim=X as an argument.\n",
      "  return F.softmax(x)\n",
      "/home/pinbo/Documents/tri-nit-ml3/model/net.py:18: UserWarning: Implicit dimension choice for softmax has been deprecated. Change the call to include dim=X as an argument.\n",
      "  return F.softmax(x)\n",
      "/home/pinbo/Documents/tri-nit-ml3/model/net.py:18: UserWarning: Implicit dimension choice for softmax has been deprecated. Change the call to include dim=X as an argument.\n",
      "  return F.softmax(x)\n",
      "/home/pinbo/Documents/tri-nit-ml3/model/net.py:18: UserWarning: Implicit dimension choice for softmax has been deprecated. Change the call to include dim=X as an argument.\n",
      "  return F.softmax(x)\n",
      "/home/pinbo/Documents/tri-nit-ml3/model/net.py:18: UserWarning: Implicit dimension choice for softmax has been deprecated. Change the call to include dim=X as an argument.\n",
      "  return F.softmax(x)\n",
      "/home/pinbo/Documents/tri-nit-ml3/model/net.py:18: UserWarning: Implicit dimension choice for softmax has been deprecated. Change the call to include dim=X as an argument.\n",
      "  return F.softmax(x)\n",
      "/home/pinbo/Documents/tri-nit-ml3/model/net.py:18: UserWarning: Implicit dimension choice for softmax has been deprecated. Change the call to include dim=X as an argument.\n",
      "  return F.softmax(x)\n",
      "/home/pinbo/Documents/tri-nit-ml3/model/net.py:18: UserWarning: Implicit dimension choice for softmax has been deprecated. Change the call to include dim=X as an argument.\n",
      "  return F.softmax(x)\n",
      "/home/pinbo/Documents/tri-nit-ml3/model/net.py:18: UserWarning: Implicit dimension choice for softmax has been deprecated. Change the call to include dim=X as an argument.\n",
      "  return F.softmax(x)\n",
      "/home/pinbo/Documents/tri-nit-ml3/model/net.py:18: UserWarning: Implicit dimension choice for softmax has been deprecated. Change the call to include dim=X as an argument.\n",
      "  return F.softmax(x)\n",
      "/home/pinbo/Documents/tri-nit-ml3/model/net.py:18: UserWarning: Implicit dimension choice for softmax has been deprecated. Change the call to include dim=X as an argument.\n",
      "  return F.softmax(x)\n"
     ]
    }
   ],
   "source": [
    "for i in range(10):\n",
    "    x = features[random.randint(0,features.shape[0])]\n",
    "    # print(x)\n",
    "    print(get_prediction(x))\n",
    "    # print(predict_crop(*x))"
   ]
  },
  {
   "cell_type": "code",
   "execution_count": null,
   "metadata": {},
   "outputs": [],
   "source": []
  }
 ],
 "metadata": {
  "kernelspec": {
   "display_name": ".venv",
   "language": "python",
   "name": "python3"
  },
  "language_info": {
   "codemirror_mode": {
    "name": "ipython",
    "version": 3
   },
   "file_extension": ".py",
   "mimetype": "text/x-python",
   "name": "python",
   "nbconvert_exporter": "python",
   "pygments_lexer": "ipython3",
   "version": "3.9.14"
  },
  "orig_nbformat": 4,
  "vscode": {
   "interpreter": {
    "hash": "e19f2f4603b121f345fb5242191b61da42ec5dfe7de1e46fd6814367d39b7bd0"
   }
  }
 },
 "nbformat": 4,
 "nbformat_minor": 2
}
